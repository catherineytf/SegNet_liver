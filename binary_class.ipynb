{
 "cells": [
  {
   "cell_type": "code",
   "execution_count": 2,
   "metadata": {},
   "outputs": [
    {
     "name": "stdout",
     "output_type": "stream",
     "text": [
      "Processing slice 0: Dimensions = (224, 224)\n",
      "Processing slice 1: Dimensions = (224, 224)\n",
      "Processing slice 2: Dimensions = (224, 224)\n",
      "Processing slice 3: Dimensions = (224, 224)\n",
      "Processing slice 4: Dimensions = (224, 224)\n",
      "Processing slice 5: Dimensions = (224, 224)\n",
      "Processing slice 6: Dimensions = (224, 224)\n",
      "Processing slice 7: Dimensions = (224, 224)\n",
      "Processing slice 8: Dimensions = (224, 224)\n",
      "Processing slice 9: Dimensions = (224, 224)\n",
      "Processing slice 10: Dimensions = (224, 224)\n",
      "Processing slice 11: Dimensions = (224, 224)\n",
      "Processing slice 12: Dimensions = (224, 224)\n",
      "Processing slice 13: Dimensions = (224, 224)\n",
      "Processing slice 14: Dimensions = (224, 224)\n",
      "Processing slice 15: Dimensions = (224, 224)\n",
      "Processing slice 16: Dimensions = (224, 224)\n",
      "Processing slice 17: Dimensions = (224, 224)\n",
      "Processing slice 18: Dimensions = (224, 224)\n",
      "Processing slice 19: Dimensions = (224, 224)\n",
      "Processing slice 20: Dimensions = (224, 224)\n",
      "Processing slice 21: Dimensions = (224, 224)\n",
      "Processing slice 22: Dimensions = (224, 224)\n",
      "Processing slice 23: Dimensions = (224, 224)\n",
      "Processing slice 24: Dimensions = (224, 224)\n",
      "Processing slice 25: Dimensions = (224, 224)\n",
      "Processing slice 26: Dimensions = (224, 224)\n",
      "Processing slice 0: Dimensions = (224, 224)\n",
      "Processing slice 1: Dimensions = (224, 224)\n",
      "Processing slice 2: Dimensions = (224, 224)\n",
      "Processing slice 3: Dimensions = (224, 224)\n",
      "Processing slice 4: Dimensions = (224, 224)\n",
      "Processing slice 5: Dimensions = (224, 224)\n",
      "Processing slice 6: Dimensions = (224, 224)\n",
      "Processing slice 7: Dimensions = (224, 224)\n",
      "Processing slice 8: Dimensions = (224, 224)\n",
      "Processing slice 9: Dimensions = (224, 224)\n",
      "Processing slice 10: Dimensions = (224, 224)\n",
      "Processing slice 11: Dimensions = (224, 224)\n",
      "Processing slice 12: Dimensions = (224, 224)\n",
      "Processing slice 13: Dimensions = (224, 224)\n",
      "Processing slice 14: Dimensions = (224, 224)\n",
      "Processing slice 15: Dimensions = (224, 224)\n",
      "Processing slice 16: Dimensions = (224, 224)\n",
      "Processing slice 17: Dimensions = (224, 224)\n",
      "Processing slice 18: Dimensions = (224, 224)\n",
      "Processing slice 19: Dimensions = (224, 224)\n",
      "Processing slice 20: Dimensions = (224, 224)\n",
      "Processing slice 21: Dimensions = (224, 224)\n",
      "Processing slice 22: Dimensions = (224, 224)\n",
      "Processing slice 23: Dimensions = (224, 224)\n",
      "Processing slice 24: Dimensions = (224, 224)\n",
      "Processing slice 25: Dimensions = (224, 224)\n",
      "Processing slice 26: Dimensions = (224, 224)\n",
      "Processing slice 27: Dimensions = (224, 224)\n",
      "Processing slice 28: Dimensions = (224, 224)\n",
      "Processing slice 0: Dimensions = (224, 224)\n",
      "Processing slice 1: Dimensions = (224, 224)\n",
      "Processing slice 2: Dimensions = (224, 224)\n",
      "Processing slice 3: Dimensions = (224, 224)\n",
      "Processing slice 4: Dimensions = (224, 224)\n",
      "Processing slice 5: Dimensions = (224, 224)\n",
      "Processing slice 6: Dimensions = (224, 224)\n",
      "Processing slice 7: Dimensions = (224, 224)\n",
      "Processing slice 8: Dimensions = (224, 224)\n",
      "Processing slice 9: Dimensions = (224, 224)\n",
      "Processing slice 10: Dimensions = (224, 224)\n",
      "Processing slice 11: Dimensions = (224, 224)\n",
      "Processing slice 12: Dimensions = (224, 224)\n",
      "Processing slice 13: Dimensions = (224, 224)\n",
      "Processing slice 14: Dimensions = (224, 224)\n",
      "Processing slice 15: Dimensions = (224, 224)\n",
      "Processing slice 16: Dimensions = (224, 224)\n",
      "Processing slice 17: Dimensions = (224, 224)\n",
      "Processing slice 18: Dimensions = (224, 224)\n",
      "Processing slice 19: Dimensions = (224, 224)\n",
      "Processing slice 20: Dimensions = (224, 224)\n",
      "Processing slice 21: Dimensions = (224, 224)\n",
      "Processing slice 22: Dimensions = (224, 224)\n",
      "Processing slice 23: Dimensions = (224, 224)\n",
      "Processing slice 24: Dimensions = (224, 224)\n",
      "Processing slice 25: Dimensions = (224, 224)\n"
     ]
    }
   ],
   "source": [
    "import os\n",
    "import nibabel as nib\n",
    "import numpy as np\n",
    "import matplotlib.pyplot as plt\n",
    "\n",
    "# Paths to folders\n",
    "adults_folder = \"Adult_fatfrac/\"\n",
    "segmentation_folder = \"Adult_seg/\"\n",
    "output_folder = \"Adult_NASH/\"\n",
    "# Create output folder if not exists\n",
    "os.makedirs(output_folder, exist_ok=True)\n",
    "\n",
    "# Process each scan\n",
    "for file in os.listdir(adults_folder):\n",
    "    if file.endswith(\".nii\"):\n",
    "        scan_path = os.path.join(adults_folder, file)\n",
    "        mask_path = os.path.join(segmentation_folder, file)  # Assuming same filename for mask\n",
    "        \n",
    "        if not os.path.exists(mask_path):\n",
    "            print(f\"Mask for {file} not found!\")\n",
    "            continue\n",
    "        \n",
    "        # Load scan and mask\n",
    "        scan_nii = nib.load(scan_path)\n",
    "        mask_nii = nib.load(mask_path)\n",
    "        \n",
    "        scan_data = scan_nii.get_fdata()\n",
    "        mask_data = mask_nii.get_fdata()\n",
    "        \n",
    "        # Ensure scan and mask dimensions match\n",
    "        assert scan_data.shape == mask_data.shape, f\"Dimension mismatch for {file}\"\n",
    "        \n",
    "        # Process each slice\n",
    "        for i in range(scan_data.shape[2]):  # Iterate through slices\n",
    "            scan_slice = scan_data[:, :, i]\n",
    "            mask_slice = mask_data[:, :, i]\n",
    "            \n",
    "            # Retain only the region covered by the mask\n",
    "            masked_scan = np.where(mask_slice > 0, scan_slice, 0)\n",
    "            \n",
    "            # Plot and save\n",
    "            plt.figure()\n",
    "            plt.imshow(masked_scan, cmap='gray')\n",
    "            plt.axis('off')\n",
    "            \n",
    "            output_path = os.path.join(output_folder, f\"{file[:-4]}_slice_{i}.png\")\n",
    "            print(f\"Processing slice {i}: Dimensions = {scan_slice.shape}\")\n",
    "\n",
    "            plt.savefig(output_path, bbox_inches='tight', pad_inches=0)\n",
    "            plt.close()\n"
   ]
  },
  {
   "cell_type": "code",
   "execution_count": null,
   "metadata": {},
   "outputs": [
    {
     "name": "stdout",
     "output_type": "stream",
     "text": [
      "Processing slice 0: Dimensions = (224, 224)\n",
      "Processing slice 1: Dimensions = (224, 224)\n",
      "Processing slice 2: Dimensions = (224, 224)\n",
      "Processing slice 3: Dimensions = (224, 224)\n",
      "Processing slice 4: Dimensions = (224, 224)\n",
      "Processing slice 5: Dimensions = (224, 224)\n",
      "Processing slice 6: Dimensions = (224, 224)\n",
      "Processing slice 7: Dimensions = (224, 224)\n",
      "Processing slice 8: Dimensions = (224, 224)\n",
      "Processing slice 9: Dimensions = (224, 224)\n",
      "Processing slice 10: Dimensions = (224, 224)\n",
      "Processing slice 11: Dimensions = (224, 224)\n",
      "Processing slice 12: Dimensions = (224, 224)\n",
      "Processing slice 13: Dimensions = (224, 224)\n",
      "Processing slice 14: Dimensions = (224, 224)\n",
      "Processing slice 15: Dimensions = (224, 224)\n",
      "Processing slice 16: Dimensions = (224, 224)\n",
      "Processing slice 17: Dimensions = (224, 224)\n",
      "Processing slice 18: Dimensions = (224, 224)\n",
      "Processing slice 19: Dimensions = (224, 224)\n",
      "Processing slice 20: Dimensions = (224, 224)\n",
      "Processing slice 21: Dimensions = (224, 224)\n",
      "Processing slice 22: Dimensions = (224, 224)\n",
      "Processing slice 23: Dimensions = (224, 224)\n",
      "Processing slice 24: Dimensions = (224, 224)\n",
      "Processing slice 25: Dimensions = (224, 224)\n",
      "Processing slice 26: Dimensions = (224, 224)\n",
      "Processing slice 27: Dimensions = (224, 224)\n",
      "Processing slice 0: Dimensions = (224, 224)\n",
      "Processing slice 1: Dimensions = (224, 224)\n",
      "Processing slice 2: Dimensions = (224, 224)\n",
      "Processing slice 3: Dimensions = (224, 224)\n",
      "Processing slice 4: Dimensions = (224, 224)\n",
      "Processing slice 5: Dimensions = (224, 224)\n",
      "Processing slice 6: Dimensions = (224, 224)\n",
      "Processing slice 7: Dimensions = (224, 224)\n",
      "Processing slice 8: Dimensions = (224, 224)\n",
      "Processing slice 9: Dimensions = (224, 224)\n",
      "Processing slice 10: Dimensions = (224, 224)\n",
      "Processing slice 11: Dimensions = (224, 224)\n",
      "Processing slice 12: Dimensions = (224, 224)\n",
      "Processing slice 13: Dimensions = (224, 224)\n",
      "Processing slice 14: Dimensions = (224, 224)\n",
      "Processing slice 15: Dimensions = (224, 224)\n",
      "Processing slice 16: Dimensions = (224, 224)\n",
      "Processing slice 17: Dimensions = (224, 224)\n",
      "Processing slice 18: Dimensions = (224, 224)\n",
      "Processing slice 19: Dimensions = (224, 224)\n",
      "Processing slice 0: Dimensions = (224, 224)\n",
      "Processing slice 1: Dimensions = (224, 224)\n",
      "Processing slice 2: Dimensions = (224, 224)\n",
      "Processing slice 3: Dimensions = (224, 224)\n",
      "Processing slice 4: Dimensions = (224, 224)\n",
      "Processing slice 5: Dimensions = (224, 224)\n",
      "Processing slice 6: Dimensions = (224, 224)\n",
      "Processing slice 7: Dimensions = (224, 224)\n",
      "Processing slice 8: Dimensions = (224, 224)\n",
      "Processing slice 9: Dimensions = (224, 224)\n",
      "Processing slice 10: Dimensions = (224, 224)\n",
      "Processing slice 11: Dimensions = (224, 224)\n",
      "Processing slice 12: Dimensions = (224, 224)\n",
      "Processing slice 13: Dimensions = (224, 224)\n",
      "Processing slice 14: Dimensions = (224, 224)\n",
      "Processing slice 15: Dimensions = (224, 224)\n",
      "Processing slice 16: Dimensions = (224, 224)\n",
      "Processing slice 17: Dimensions = (224, 224)\n",
      "Processing slice 18: Dimensions = (224, 224)\n",
      "Processing slice 19: Dimensions = (224, 224)\n",
      "Processing slice 20: Dimensions = (224, 224)\n",
      "Processing slice 21: Dimensions = (224, 224)\n",
      "Processing slice 22: Dimensions = (224, 224)\n",
      "Processing slice 23: Dimensions = (224, 224)\n",
      "Processing slice 24: Dimensions = (224, 224)\n",
      "Processing slice 25: Dimensions = (224, 224)\n",
      "Processing slice 26: Dimensions = (224, 224)\n",
      "Processing slice 27: Dimensions = (224, 224)\n",
      "Processing slice 28: Dimensions = (224, 224)\n",
      "Processing slice 29: Dimensions = (224, 224)\n"
     ]
    }
   ],
   "source": [
    "import os\n",
    "import nibabel as nib\n",
    "import numpy as np\n",
    "import matplotlib.pyplot as plt\n",
    "\n",
    "# Paths to folders\n",
    "adults_folder = \"Ped_fatfrac/\"\n",
    "segmentation_folder = \"Ped_seg/\"\n",
    "output_folder = \"Ped_NAFLD/\"\n",
    "# Create output folder if not exists\n",
    "os.makedirs(output_folder, exist_ok=True)\n",
    "\n",
    "# Process each scan\n",
    "for file in os.listdir(adults_folder):\n",
    "    if file.endswith(\".nii\"):\n",
    "        scan_path = os.path.join(adults_folder, file)\n",
    "        mask_path = os.path.join(segmentation_folder, file)  # Assuming same filename for mask\n",
    "        \n",
    "        if not os.path.exists(mask_path):\n",
    "            print(f\"Mask for {file} not found!\")\n",
    "            continue\n",
    "        \n",
    "        # Load scan and mask\n",
    "        scan_nii = nib.load(scan_path)\n",
    "        mask_nii = nib.load(mask_path)\n",
    "        \n",
    "        scan_data = scan_nii.get_fdata()\n",
    "        mask_data = mask_nii.get_fdata()\n",
    "        \n",
    "        # Ensure scan and mask dimensions match\n",
    "        assert scan_data.shape == mask_data.shape, f\"Dimension mismatch for {file}\"\n",
    "        \n",
    "        # Process each slice\n",
    "        for i in range(scan_data.shape[2]):  # Iterate through slices\n",
    "            scan_slice = scan_data[:, :, i]\n",
    "            mask_slice = mask_data[:, :, i]\n",
    "            \n",
    "            # Retain only the region covered by the mask\n",
    "            masked_scan = np.where(mask_slice > 0, scan_slice, 0)\n",
    "            \n",
    "            # Plot and save\n",
    "            plt.figure()\n",
    "            plt.imshow(masked_scan, cmap='gray')\n",
    "            plt.axis('off')\n",
    "            \n",
    "            output_path = os.path.join(output_folder, f\"{file[:-4]}_slice_{i}.png\")\n",
    "            print(f\"Processing slice {i}: Dimensions = {scan_slice.shape}\")\n",
    "\n",
    "            plt.savefig(output_path, bbox_inches='tight', pad_inches=0)\n",
    "            plt.close()\n"
   ]
  },
  {
   "cell_type": "code",
   "execution_count": 11,
   "metadata": {},
   "outputs": [
    {
     "name": "stdout",
     "output_type": "stream",
     "text": [
      "Training VGG16...\n",
      "Found 148 images belonging to 2 classes.\n",
      "Found 12 images belonging to 2 classes.\n",
      "Epoch 1/2\n"
     ]
    },
    {
     "name": "stderr",
     "output_type": "stream",
     "text": [
      "/opt/anaconda3/lib/python3.11/site-packages/keras/src/trainers/data_adapters/py_dataset_adapter.py:121: UserWarning: Your `PyDataset` class should call `super().__init__(**kwargs)` in its constructor. `**kwargs` can include `workers`, `use_multiprocessing`, `max_queue_size`. Do not pass these arguments to `fit()`, as they will be ignored.\n",
      "  self._warn_if_super_not_called()\n"
     ]
    },
    {
     "name": "stdout",
     "output_type": "stream",
     "text": [
      "\u001b[1m5/5\u001b[0m \u001b[32m━━━━━━━━━━━━━━━━━━━━\u001b[0m\u001b[37m\u001b[0m \u001b[1m0s\u001b[0m 3s/step - accuracy: 0.5539 - loss: 0.7918WARNING:tensorflow:5 out of the last 9 calls to <function TensorFlowTrainer.make_test_function.<locals>.one_step_on_iterator at 0x317b88ae0> triggered tf.function retracing. Tracing is expensive and the excessive number of tracings could be due to (1) creating @tf.function repeatedly in a loop, (2) passing tensors with different shapes, (3) passing Python objects instead of tensors. For (1), please define your @tf.function outside of the loop. For (2), @tf.function has reduce_retracing=True option that can avoid unnecessary retracing. For (3), please refer to https://www.tensorflow.org/guide/function#controlling_retracing and https://www.tensorflow.org/api_docs/python/tf/function for  more details.\n"
     ]
    },
    {
     "name": "stderr",
     "output_type": "stream",
     "text": [
      "WARNING:tensorflow:5 out of the last 9 calls to <function TensorFlowTrainer.make_test_function.<locals>.one_step_on_iterator at 0x317b88ae0> triggered tf.function retracing. Tracing is expensive and the excessive number of tracings could be due to (1) creating @tf.function repeatedly in a loop, (2) passing tensors with different shapes, (3) passing Python objects instead of tensors. For (1), please define your @tf.function outside of the loop. For (2), @tf.function has reduce_retracing=True option that can avoid unnecessary retracing. For (3), please refer to https://www.tensorflow.org/guide/function#controlling_retracing and https://www.tensorflow.org/api_docs/python/tf/function for  more details.\n"
     ]
    },
    {
     "name": "stdout",
     "output_type": "stream",
     "text": [
      "\u001b[1m5/5\u001b[0m \u001b[32m━━━━━━━━━━━━━━━━━━━━\u001b[0m\u001b[37m\u001b[0m \u001b[1m18s\u001b[0m 3s/step - accuracy: 0.5607 - loss: 0.7839 - val_accuracy: 0.6667 - val_loss: 0.6182\n",
      "Epoch 2/2\n",
      "\u001b[1m5/5\u001b[0m \u001b[32m━━━━━━━━━━━━━━━━━━━━\u001b[0m\u001b[37m\u001b[0m \u001b[1m17s\u001b[0m 4s/step - accuracy: 0.5815 - loss: 0.7221 - val_accuracy: 0.5833 - val_loss: 0.6087\n"
     ]
    },
    {
     "name": "stderr",
     "output_type": "stream",
     "text": [
      "WARNING:absl:You are saving your model as an HDF5 file via `model.save()` or `keras.saving.save_model(model)`. This file format is considered legacy. We recommend using instead the native Keras format, e.g. `model.save('my_model.keras')` or `keras.saving.save_model(model, 'my_model.keras')`. \n"
     ]
    },
    {
     "name": "stdout",
     "output_type": "stream",
     "text": [
      "VGG16 model saved as VGG16_binary_classifier.h5\n",
      "Generating confusion matrix for VGG16...\n",
      "\u001b[1m1/1\u001b[0m \u001b[32m━━━━━━━━━━━━━━━━━━━━\u001b[0m\u001b[37m\u001b[0m \u001b[1m1s\u001b[0m 1s/step\n"
     ]
    },
    {
     "data": {
      "image/png": "[encoded data removed]",
      "text/plain": [
       "<Figure size 640x480 with 2 Axes>"
      ]
     },
     "metadata": {},
     "output_type": "display_data"
    },
    {
     "name": "stdout",
     "output_type": "stream",
     "text": [
      "Classification Report for VGG16:\n",
      "              precision    recall  f1-score   support\n",
      "\n",
      "       adult       0.55      1.00      0.71         6\n",
      "         ped       1.00      0.17      0.29         6\n",
      "\n",
      "    accuracy                           0.58        12\n",
      "   macro avg       0.77      0.58      0.50        12\n",
      "weighted avg       0.77      0.58      0.50        12\n",
      "\n",
      "Training InceptionV3...\n",
      "Found 148 images belonging to 2 classes.\n",
      "Found 12 images belonging to 2 classes.\n",
      "Epoch 1/2\n"
     ]
    },
    {
     "name": "stderr",
     "output_type": "stream",
     "text": [
      "/opt/anaconda3/lib/python3.11/site-packages/keras/src/trainers/data_adapters/py_dataset_adapter.py:121: UserWarning: Your `PyDataset` class should call `super().__init__(**kwargs)` in its constructor. `**kwargs` can include `workers`, `use_multiprocessing`, `max_queue_size`. Do not pass these arguments to `fit()`, as they will be ignored.\n",
      "  self._warn_if_super_not_called()\n"
     ]
    },
    {
     "name": "stdout",
     "output_type": "stream",
     "text": [
      "\u001b[1m5/5\u001b[0m \u001b[32m━━━━━━━━━━━━━━━━━━━━\u001b[0m\u001b[37m\u001b[0m \u001b[1m0s\u001b[0m 1s/step - accuracy: 0.4233 - loss: 0.7661WARNING:tensorflow:6 out of the last 11 calls to <function TensorFlowTrainer.make_test_function.<locals>.one_step_on_iterator at 0x318a74040> triggered tf.function retracing. Tracing is expensive and the excessive number of tracings could be due to (1) creating @tf.function repeatedly in a loop, (2) passing tensors with different shapes, (3) passing Python objects instead of tensors. For (1), please define your @tf.function outside of the loop. For (2), @tf.function has reduce_retracing=True option that can avoid unnecessary retracing. For (3), please refer to https://www.tensorflow.org/guide/function#controlling_retracing and https://www.tensorflow.org/api_docs/python/tf/function for  more details.\n"
     ]
    },
    {
     "name": "stderr",
     "output_type": "stream",
     "text": [
      "WARNING:tensorflow:6 out of the last 11 calls to <function TensorFlowTrainer.make_test_function.<locals>.one_step_on_iterator at 0x318a74040> triggered tf.function retracing. Tracing is expensive and the excessive number of tracings could be due to (1) creating @tf.function repeatedly in a loop, (2) passing tensors with different shapes, (3) passing Python objects instead of tensors. For (1), please define your @tf.function outside of the loop. For (2), @tf.function has reduce_retracing=True option that can avoid unnecessary retracing. For (3), please refer to https://www.tensorflow.org/guide/function#controlling_retracing and https://www.tensorflow.org/api_docs/python/tf/function for  more details.\n"
     ]
    },
    {
     "name": "stdout",
     "output_type": "stream",
     "text": [
      "\u001b[1m5/5\u001b[0m \u001b[32m━━━━━━━━━━━━━━━━━━━━\u001b[0m\u001b[37m\u001b[0m \u001b[1m11s\u001b[0m 2s/step - accuracy: 0.4350 - loss: 0.7587 - val_accuracy: 0.6667 - val_loss: 0.6805\n",
      "Epoch 2/2\n",
      "\u001b[1m5/5\u001b[0m \u001b[32m━━━━━━━━━━━━━━━━━━━━\u001b[0m\u001b[37m\u001b[0m \u001b[1m7s\u001b[0m 1s/step - accuracy: 0.6596 - loss: 0.6389 - val_accuracy: 0.6667 - val_loss: 0.5897\n"
     ]
    },
    {
     "name": "stderr",
     "output_type": "stream",
     "text": [
      "WARNING:absl:You are saving your model as an HDF5 file via `model.save()` or `keras.saving.save_model(model)`. This file format is considered legacy. We recommend using instead the native Keras format, e.g. `model.save('my_model.keras')` or `keras.saving.save_model(model, 'my_model.keras')`. \n"
     ]
    },
    {
     "name": "stdout",
     "output_type": "stream",
     "text": [
      "InceptionV3 model saved as InceptionV3_binary_classifier.h5\n",
      "Generating confusion matrix for InceptionV3...\n",
      "\u001b[1m1/1\u001b[0m \u001b[32m━━━━━━━━━━━━━━━━━━━━\u001b[0m\u001b[37m\u001b[0m \u001b[1m1s\u001b[0m 1s/step\n"
     ]
    },
    {
     "data": {
      "image/png": "[encoded data removed]",
      "text/plain": [
       "<Figure size 640x480 with 2 Axes>"
      ]
     },
     "metadata": {},
     "output_type": "display_data"
    },
    {
     "name": "stdout",
     "output_type": "stream",
     "text": [
      "Classification Report for InceptionV3:\n",
      "              precision    recall  f1-score   support\n",
      "\n",
      "       adult       1.00      0.33      0.50         6\n",
      "         ped       0.60      1.00      0.75         6\n",
      "\n",
      "    accuracy                           0.67        12\n",
      "   macro avg       0.80      0.67      0.62        12\n",
      "weighted avg       0.80      0.67      0.62        12\n",
      "\n",
      "Training ResNet50...\n",
      "Found 148 images belonging to 2 classes.\n",
      "Found 12 images belonging to 2 classes.\n",
      "Epoch 1/2\n"
     ]
    },
    {
     "name": "stderr",
     "output_type": "stream",
     "text": [
      "/opt/anaconda3/lib/python3.11/site-packages/keras/src/trainers/data_adapters/py_dataset_adapter.py:121: UserWarning: Your `PyDataset` class should call `super().__init__(**kwargs)` in its constructor. `**kwargs` can include `workers`, `use_multiprocessing`, `max_queue_size`. Do not pass these arguments to `fit()`, as they will be ignored.\n",
      "  self._warn_if_super_not_called()\n"
     ]
    },
    {
     "name": "stdout",
     "output_type": "stream",
     "text": [
      "\u001b[1m5/5\u001b[0m \u001b[32m━━━━━━━━━━━━━━━━━━━━\u001b[0m\u001b[37m\u001b[0m \u001b[1m8s\u001b[0m 1s/step - accuracy: 0.5347 - loss: 0.6996 - val_accuracy: 0.8333 - val_loss: 0.4859\n",
      "Epoch 2/2\n",
      "\u001b[1m5/5\u001b[0m \u001b[32m━━━━━━━━━━━━━━━━━━━━\u001b[0m\u001b[37m\u001b[0m \u001b[1m5s\u001b[0m 1s/step - accuracy: 0.7362 - loss: 0.5424 - val_accuracy: 0.7500 - val_loss: 0.4088\n"
     ]
    },
    {
     "name": "stderr",
     "output_type": "stream",
     "text": [
      "WARNING:absl:You are saving your model as an HDF5 file via `model.save()` or `keras.saving.save_model(model)`. This file format is considered legacy. We recommend using instead the native Keras format, e.g. `model.save('my_model.keras')` or `keras.saving.save_model(model, 'my_model.keras')`. \n"
     ]
    },
    {
     "name": "stdout",
     "output_type": "stream",
     "text": [
      "ResNet50 model saved as ResNet50_binary_classifier.h5\n",
      "Generating confusion matrix for ResNet50...\n",
      "\u001b[1m1/1\u001b[0m \u001b[32m━━━━━━━━━━━━━━━━━━━━\u001b[0m\u001b[37m\u001b[0m \u001b[1m1s\u001b[0m 1s/step\n"
     ]
    },
    {
     "data": {
      "image/png": "[encoded data removed]",
      "text/plain": [
       "<Figure size 640x480 with 2 Axes>"
      ]
     },
     "metadata": {},
     "output_type": "display_data"
    },
    {
     "name": "stdout",
     "output_type": "stream",
     "text": [
      "Classification Report for ResNet50:\n",
      "              precision    recall  f1-score   support\n",
      "\n",
      "       adult       1.00      0.50      0.67         6\n",
      "         ped       0.67      1.00      0.80         6\n",
      "\n",
      "    accuracy                           0.75        12\n",
      "   macro avg       0.83      0.75      0.73        12\n",
      "weighted avg       0.83      0.75      0.73        12\n",
      "\n",
      "Training DenseNet121...\n",
      "Found 148 images belonging to 2 classes.\n",
      "Found 12 images belonging to 2 classes.\n",
      "Epoch 1/2\n"
     ]
    },
    {
     "name": "stderr",
     "output_type": "stream",
     "text": [
      "/opt/anaconda3/lib/python3.11/site-packages/keras/src/trainers/data_adapters/py_dataset_adapter.py:121: UserWarning: Your `PyDataset` class should call `super().__init__(**kwargs)` in its constructor. `**kwargs` can include `workers`, `use_multiprocessing`, `max_queue_size`. Do not pass these arguments to `fit()`, as they will be ignored.\n",
      "  self._warn_if_super_not_called()\n"
     ]
    },
    {
     "name": "stdout",
     "output_type": "stream",
     "text": [
      "\u001b[1m5/5\u001b[0m \u001b[32m━━━━━━━━━━━━━━━━━━━━\u001b[0m\u001b[37m\u001b[0m \u001b[1m12s\u001b[0m 1s/step - accuracy: 0.5470 - loss: 0.7244 - val_accuracy: 0.6667 - val_loss: 0.6002\n",
      "Epoch 2/2\n",
      "\u001b[1m5/5\u001b[0m \u001b[32m━━━━━━━━━━━━━━━━━━━━\u001b[0m\u001b[37m\u001b[0m \u001b[1m5s\u001b[0m 1s/step - accuracy: 0.6204 - loss: 0.6460 - val_accuracy: 0.7500 - val_loss: 0.5511\n"
     ]
    },
    {
     "name": "stderr",
     "output_type": "stream",
     "text": [
      "WARNING:absl:You are saving your model as an HDF5 file via `model.save()` or `keras.saving.save_model(model)`. This file format is considered legacy. We recommend using instead the native Keras format, e.g. `model.save('my_model.keras')` or `keras.saving.save_model(model, 'my_model.keras')`. \n"
     ]
    },
    {
     "name": "stdout",
     "output_type": "stream",
     "text": [
      "DenseNet121 model saved as DenseNet121_binary_classifier.h5\n",
      "Generating confusion matrix for DenseNet121...\n",
      "\u001b[1m1/1\u001b[0m \u001b[32m━━━━━━━━━━━━━━━━━━━━\u001b[0m\u001b[37m\u001b[0m \u001b[1m2s\u001b[0m 2s/step\n"
     ]
    },
    {
     "data": {
      "image/png": "[encoded data removed]",
      "text/plain": [
       "<Figure size 640x480 with 2 Axes>"
      ]
     },
     "metadata": {},
     "output_type": "display_data"
    },
    {
     "name": "stdout",
     "output_type": "stream",
     "text": [
      "Classification Report for DenseNet121:\n",
      "              precision    recall  f1-score   support\n",
      "\n",
      "       adult       1.00      0.50      0.67         6\n",
      "         ped       0.67      1.00      0.80         6\n",
      "\n",
      "    accuracy                           0.75        12\n",
      "   macro avg       0.83      0.75      0.73        12\n",
      "weighted avg       0.83      0.75      0.73        12\n",
      "\n",
      "Training and evaluation completed for all models.\n"
     ]
    }
   ],
   "source": [
    "import os\n",
    "import numpy as np\n",
    "import tensorflow as tf\n",
    "from tensorflow.keras.applications.vgg16 import VGG16, preprocess_input as preprocess_input_vgg\n",
    "from tensorflow.keras.applications.inception_v3 import InceptionV3, preprocess_input as preprocess_input_inception\n",
    "from tensorflow.keras.applications.resnet50 import ResNet50, preprocess_input as preprocess_input_resnet\n",
    "from tensorflow.keras.applications.densenet import DenseNet121, preprocess_input as preprocess_input_densenet\n",
    "from tensorflow.keras.preprocessing.image import ImageDataGenerator\n",
    "from tensorflow.keras.layers import Dense, GlobalAveragePooling2D\n",
    "from tensorflow.keras.models import Model\n",
    "from tensorflow.keras.optimizers import Adam\n",
    "from sklearn.metrics import confusion_matrix, classification_report, ConfusionMatrixDisplay\n",
    "import matplotlib.pyplot as plt\n",
    "\n",
    "# Paths to dataset\n",
    "train_dir = 'dataset/train'\n",
    "val_dir = 'dataset/val'\n",
    "\n",
    "# Parameters\n",
    "batch_size = 32\n",
    "epochs = 2  # Set to a low value for demonstration; increase for actual training\n",
    "img_size_vgg = (224, 224)\n",
    "img_size_inception = (299, 299)\n",
    "img_size_resnet = (224, 224)\n",
    "img_size_densenet = (224, 224)\n",
    "\n",
    "# Function to build and compile model\n",
    "def build_model(base_model_fn, input_shape=(224, 224, 3)):\n",
    "    base_model = base_model_fn(weights='imagenet', include_top=False, input_shape=input_shape)\n",
    "    x = base_model.output\n",
    "    x = GlobalAveragePooling2D()(x)\n",
    "    x = Dense(128, activation='relu')(x)\n",
    "    output = Dense(1, activation='sigmoid')(x)  # Binary classification\n",
    "    model = Model(inputs=base_model.input, outputs=output)\n",
    "    \n",
    "    # Freeze base model layers\n",
    "    for layer in base_model.layers:\n",
    "        layer.trainable = False\n",
    "\n",
    "    model.compile(optimizer=Adam(learning_rate=1e-4), loss='binary_crossentropy', metrics=['accuracy'])\n",
    "    return model\n",
    "\n",
    "# Function to generate confusion matrix\n",
    "def generate_confusion_matrix(model, val_generator, model_name):\n",
    "    print(f\"Generating confusion matrix for {model_name}...\")\n",
    "    true_labels = val_generator.classes\n",
    "    predictions = model.predict(val_generator)\n",
    "    predicted_labels = (predictions > 0.5).astype(int).flatten()\n",
    "    \n",
    "    # Confusion matrix and classification report\n",
    "    cm = confusion_matrix(true_labels, predicted_labels)\n",
    "    disp = ConfusionMatrixDisplay(confusion_matrix=cm, display_labels=val_generator.class_indices.keys())\n",
    "    disp.plot(cmap='Blues')\n",
    "    plt.title(f'Confusion Matrix for {model_name}')\n",
    "    plt.show()\n",
    "    \n",
    "    report = classification_report(true_labels, predicted_labels, target_names=val_generator.class_indices.keys())\n",
    "    print(f\"Classification Report for {model_name}:\\n{report}\")\n",
    "\n",
    "# Training and evaluation for each model\n",
    "models = {\n",
    "    'VGG16': (VGG16, preprocess_input_vgg, img_size_vgg),\n",
    "    'InceptionV3': (InceptionV3, preprocess_input_inception, img_size_inception),\n",
    "    'ResNet50': (ResNet50, preprocess_input_resnet, img_size_resnet),\n",
    "    'DenseNet121': (DenseNet121, preprocess_input_densenet, img_size_densenet)\n",
    "}\n",
    "\n",
    "for model_name, (model_fn, preprocess_input_fn, img_size) in models.items():\n",
    "    print(f\"Training {model_name}...\")\n",
    "    \n",
    "    # Data generators\n",
    "    datagen = ImageDataGenerator(preprocessing_function=preprocess_input_fn)\n",
    "    train_generator = datagen.flow_from_directory(\n",
    "        train_dir,\n",
    "        target_size=img_size,\n",
    "        batch_size=batch_size,\n",
    "        class_mode='binary'\n",
    "    )\n",
    "    val_generator = datagen.flow_from_directory(\n",
    "        val_dir,\n",
    "        target_size=img_size,\n",
    "        batch_size=batch_size,\n",
    "        class_mode='binary',\n",
    "        shuffle=False\n",
    "    )\n",
    "    \n",
    "    # Build and train model\n",
    "    model = build_model(model_fn, input_shape=(img_size[0], img_size[1], 3))\n",
    "    model.fit(train_generator, epochs=epochs, validation_data=val_generator, verbose=1)\n",
    "    \n",
    "    # Save model\n",
    "    model_path = f\"{model_name}_binary_classifier.h5\"\n",
    "    model.save(model_path)\n",
    "    print(f\"{model_name} model saved as {model_path}\")\n",
    "    \n",
    "    # Generate confusion matrix\n",
    "    generate_confusion_matrix(model, val_generator, model_name)\n",
    "\n",
    "print(\"Training and evaluation completed for all models.\")\n"
   ]
  }
 ],
 "metadata": {
  "kernelspec": {
   "display_name": "base",
   "language": "python",
   "name": "python3"
  },
  "language_info": {
   "codemirror_mode": {
    "name": "ipython",
    "version": 3
   },
   "file_extension": ".py",
   "mimetype": "text/x-python",
   "name": "python",
   "nbconvert_exporter": "python",
   "pygments_lexer": "ipython3",
   "version": "3.11.7"
  }
 },
 "nbformat": 4,
 "nbformat_minor": 2
}
