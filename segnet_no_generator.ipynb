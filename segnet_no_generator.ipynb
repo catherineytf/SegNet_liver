{
 "cells": [
  {
   "cell_type": "code",
   "execution_count": 14,
   "metadata": {},
   "outputs": [],
   "source": [
    "import nibabel as nib\n",
    "import numpy as np\n",
    "import os\n",
    "import matplotlib.pyplot as plt\n"
   ]
  },
  {
   "attachments": {},
   "cell_type": "markdown",
   "metadata": {},
   "source": [
    "Get slices of all images/masks"
   ]
  },
  {
   "cell_type": "code",
   "execution_count": 43,
   "metadata": {},
   "outputs": [],
   "source": [
    "image_directory = 'MRI/Anatomical_mag_echo5/'\n",
    "mask_directory = 'MRI/whole_liver_segmentation/'\n",
    "\n",
    "image_dataset = []  \n",
    "mask_dataset = []\n",
    "sliced_image_dataset = []\n",
    "sliced_mask_dataset = []\n",
    "image_filenames =[]\n",
    "image_slices_filenames =[]\n",
    "mask_filenames =[]\n",
    "mask_slices_filenames =[]\n",
    "\n",
    "\n",
    "images = os.listdir(image_directory)\n",
    "images.sort()\n",
    "for i, image_name in enumerate(images):    \n",
    "    if (image_name.split('.')[1] == 'nii'):\n",
    "        image = nib.load(image_directory+image_name)\n",
    "        image = np.array(image.get_fdata())\n",
    "        image_dataset.append(np.array(image))\n",
    "\n",
    "\n",
    "        image_filenames.append(os.path.splitext(image_name)[0]) \n",
    "\n",
    "masks = os.listdir(mask_directory)\n",
    "masks.sort()\n",
    "for i, image_name in enumerate(masks):\n",
    "    if (image_name.split('.')[1] == 'nii'):\n",
    "        image = nib.load(mask_directory+image_name)\n",
    "        image = np.array(image.get_fdata())\n",
    "        mask_dataset.append(np.array(image))\n",
    "\n",
    "        mask_filenames.append(os.path.splitext(image_name)[0]) \n",
    "\n",
    "\n",
    "for i in range(len(image_dataset)):\n",
    "    for j in range(image_dataset[i].shape[2]):\n",
    "        sliced_image_dataset.append(image_dataset[i][:,:,j])\n",
    "        \n",
    "        image_slice_id = f'{image_filenames[i]}-slice{j}'\n",
    "        image_slices_filenames.append(image_slice_id)\n",
    "\n",
    "\n",
    "for i in range(len(mask_dataset)):\n",
    "    for j in range(mask_dataset[i].shape[2]):\n",
    "        if mask_filenames[i] == 'f_3325' and j==31:\n",
    "            continue\n",
    "        else:\n",
    "            sliced_mask_dataset.append(mask_dataset[i][:,:,j])\n",
    "            mask_slice_id = f'{mask_filenames[i]}-slice{j}'\n",
    "            mask_slices_filenames.append(mask_slice_id)\n",
    "\n",
    "\n"
   ]
  },
  {
   "cell_type": "code",
   "execution_count": 44,
   "metadata": {},
   "outputs": [],
   "source": [
    "array1 = image_slices_filenames\n",
    "array2=mask_slices_filenames"
   ]
  },
  {
   "cell_type": "code",
   "execution_count": 45,
   "metadata": {},
   "outputs": [
    {
     "name": "stdout",
     "output_type": "stream",
     "text": [
      "Elements in array1 not in array2: []\n",
      "Elements in array2 not in array1: []\n"
     ]
    }
   ],
   "source": [
    "# Elements in array1 not in array2\n",
    "difference1 = [item for item in array1 if item not in array2]\n",
    "\n",
    "# Elements in array2 not in array1\n",
    "difference2 = [item for item in array2 if item not in array1]\n",
    "\n",
    "print(f\"Elements in array1 not in array2: {difference1}\")\n",
    "print(f\"Elements in array2 not in array1: {difference2}\")"
   ]
  },
  {
   "cell_type": "code",
   "execution_count": 47,
   "metadata": {},
   "outputs": [
    {
     "data": {
      "text/plain": [
       "True"
      ]
     },
     "execution_count": 47,
     "metadata": {},
     "output_type": "execute_result"
    }
   ],
   "source": [
    "image_slices_filenames==mask_slices_filenames"
   ]
  },
  {
   "cell_type": "code",
   "execution_count": null,
   "metadata": {},
   "outputs": [],
   "source": [
    "print(mask_slices_filenames)"
   ]
  },
  {
   "cell_type": "code",
   "execution_count": 34,
   "metadata": {},
   "outputs": [
    {
     "name": "stdout",
     "output_type": "stream",
     "text": [
      "f_2396-slice11\n"
     ]
    }
   ],
   "source": [
    "print( mask_slices_filenames[11])"
   ]
  },
  {
   "cell_type": "code",
   "execution_count": 48,
   "metadata": {},
   "outputs": [
    {
     "name": "stdout",
     "output_type": "stream",
     "text": [
      "Total sliced images: 3151\n",
      "Total sliced masks: 3151\n"
     ]
    }
   ],
   "source": [
    "print(f\"Total sliced images: {len(mask_slices_filenames)}\")\n",
    "print(f\"Total sliced masks: {len(sliced_mask_dataset)}\")"
   ]
  },
  {
   "attachments": {},
   "cell_type": "markdown",
   "metadata": {},
   "source": [
    "Build model"
   ]
  },
  {
   "cell_type": "code",
   "execution_count": 4,
   "metadata": {},
   "outputs": [],
   "source": [
    "batch_size = 16 # The batch size to use when training the model\n",
    "image_size = (224, 224)  # The size of the images\n",
    "\n",
    "import tensorflow as tf\n",
    "import tifffile as tiff\n",
    "from tensorflow import keras\n",
    "from tensorflow.keras import layers\n",
    "from tensorflow.keras.utils import plot_model\n",
    "import random\n",
    "\n",
    "from tensorflow.keras.models import Model\n",
    "from tensorflow.keras.layers import Input, Conv2D, MaxPooling2D, UpSampling2D, BatchNormalization, Activation, Concatenate\n",
    "\n",
    "from sklearn.metrics import confusion_matrix\n",
    "from keras.preprocessing.image import ImageDataGenerator\n",
    "import numpy as np\n",
    "\n",
    "# Building the SegNet Model\n",
    "\n",
    "def encoder_block(input_tensor, n_filters, kernel_size=3, batchnorm=True):\n",
    "    # first layer\n",
    "    x = Conv2D(filters=n_filters, kernel_size=(kernel_size, kernel_size), kernel_initializer=\"he_normal\",\n",
    "               padding=\"same\")(input_tensor)\n",
    "    if batchnorm:\n",
    "        x = BatchNormalization()(x)\n",
    "    x = Activation(\"relu\")(x)\n",
    "    # second layer\n",
    "    x = Conv2D(filters=n_filters, kernel_size=(kernel_size, kernel_size), kernel_initializer=\"he_normal\",\n",
    "               padding=\"same\")(x)\n",
    "    if batchnorm:\n",
    "        x = BatchNormalization()(x)\n",
    "    x = Activation(\"relu\")(x)\n",
    "    return x\n",
    "\n",
    "def decoder_block(input_tensor, skip_tensor, n_filters, kernel_size=3, batchnorm=True):\n",
    "    x = UpSampling2D(size=(2, 2))(input_tensor)\n",
    "    x = Concatenate()([x, skip_tensor])\n",
    "    x = Conv2D(filters=n_filters, kernel_size=(kernel_size, kernel_size), kernel_initializer=\"he_normal\",\n",
    "               padding=\"same\")(x)\n",
    "    if batchnorm:\n",
    "        x = BatchNormalization()(x)\n",
    "    x = Activation(\"relu\")(x)\n",
    "    x = Conv2D(filters=n_filters, kernel_size=(kernel_size, kernel_size), kernel_initializer=\"he_normal\",\n",
    "               padding=\"same\")(x)\n",
    "    if batchnorm:\n",
    "        x = BatchNormalization()(x)\n",
    "    x = Activation(\"relu\")(x)\n",
    "    return x\n",
    "\n",
    "def get_segnet_model(input_img, n_filters=64, n_classes=1, dropout=0.1, batchnorm=True):\n",
    "    # Contracting Path (encoder)\n",
    "    c1 = encoder_block(input_img, n_filters * 1, kernel_size=3, batchnorm=batchnorm)\n",
    "    p1 = MaxPooling2D((2, 2))(c1)\n",
    "    \n",
    "    c2 = encoder_block(p1, n_filters * 2, kernel_size=3, batchnorm=batchnorm)\n",
    "    p2 = MaxPooling2D((2, 2))(c2)\n",
    "    \n",
    "    c3 = encoder_block(p2, n_filters * 4, kernel_size=3, batchnorm=batchnorm)\n",
    "    p3 = MaxPooling2D((2, 2))(c3)\n",
    "    \n",
    "    c4 = encoder_block(p3, n_filters * 8, kernel_size=3, batchnorm=batchnorm)\n",
    "    p4 = MaxPooling2D((2, 2))(c4)\n",
    "    \n",
    "    # Expanding Path (decoder)\n",
    "    u6 = decoder_block(c4, c3, n_filters * 4, kernel_size=3, batchnorm=batchnorm)\n",
    "    u7 = decoder_block(u6, c2, n_filters * 2, kernel_size=3, batchnorm=batchnorm)\n",
    "    u8 = decoder_block(u7, c1, n_filters * 1, kernel_size=3, batchnorm=batchnorm)\n",
    "    \n",
    "    # Output layer\n",
    "    output_img = Conv2D(n_classes, (1, 1), activation='sigmoid')(u8)\n",
    "    \n",
    "    return Model(inputs=input_img, outputs=output_img)"
   ]
  },
  {
   "attachments": {},
   "cell_type": "markdown",
   "metadata": {},
   "source": [
    "set up metrics"
   ]
  },
  {
   "cell_type": "code",
   "execution_count": 5,
   "metadata": {},
   "outputs": [],
   "source": [
    "from keras import backend as K\n",
    "from keras.losses import binary_crossentropy\n",
    "import tensorflow as tf\n",
    "\n",
    "def dice_coef(y_true, y_pred, smooth=1):\n",
    "    y_true_f = K.flatten(y_true)\n",
    "    y_pred_f = K.flatten(y_pred)\n",
    "    intersection = K.sum(y_true_f * y_pred_f)\n",
    "    return (2. * intersection + smooth) / (K.sum(y_true_f) + K.sum(y_pred_f) + smooth)\n",
    "\n",
    "\n",
    "\n"
   ]
  },
  {
   "cell_type": "code",
   "execution_count": 6,
   "metadata": {},
   "outputs": [],
   "source": [
    "import tensorflow as tf\n",
    "\n",
    "def true_positive_rate(y_true, y_pred, threshold=0.5):\n",
    "    y_pred_pos = tf.cast(y_pred > threshold, tf.float32)\n",
    "    y_true_pos = tf.cast(y_true > threshold, tf.float32)\n",
    "    \n",
    "    # Use `tf.logical_and` directly from TensorFlow\n",
    "    true_pos = tf.reduce_sum(tf.cast(tf.logical_and(y_true_pos == 1, y_pred_pos == 1), tf.float32))\n",
    "    actual_pos = tf.reduce_sum(tf.cast(y_true_pos, tf.float32))\n",
    "    \n",
    "    tpr = true_pos / (actual_pos + tf.keras.backend.epsilon())\n",
    "    return tpr\n",
    "\n",
    "def false_positive_rate(y_true, y_pred, threshold=0.5):\n",
    "    y_pred_pos = tf.cast(y_pred > threshold, tf.float32)\n",
    "    y_true_neg = tf.cast(y_true <= threshold, tf.float32)\n",
    "    \n",
    "    # Use `tf.logical_and` directly from TensorFlow\n",
    "    false_pos = tf.reduce_sum(tf.cast(tf.logical_and(y_true_neg == 1, y_pred_pos == 1), tf.float32))\n",
    "    actual_neg = tf.reduce_sum(tf.cast(y_true_neg, tf.float32))\n",
    "    \n",
    "    fpr = false_pos / (actual_neg + tf.keras.backend.epsilon())\n",
    "    return fpr\n"
   ]
  },
  {
   "cell_type": "code",
   "execution_count": 7,
   "metadata": {},
   "outputs": [],
   "source": [
    "from sklearn.metrics import confusion_matrix\n",
    "\n",
    "def calculate_tpr_fpr(y_true, y_pred):\n",
    "    # Assuming y_pred is sigmoid output, threshold to get binary mask\n",
    "    y_pred = y_pred > 0.5\n",
    "    # Flatten the arrays to compute confusion matrix\n",
    "    y_true_f = y_true.flatten()\n",
    "    y_pred_f = y_pred.flatten()\n",
    "    \n",
    "    cm = confusion_matrix(y_true_f, y_pred_f).ravel()\n",
    "    \n",
    "    # Depending on the shape of the confusion matrix, unpack accordingly\n",
    "    if cm.shape[0] == 4:  # If we have a full 2x2 matrix\n",
    "        tn, fp, fn, tp = cm\n",
    "    elif cm.shape[0] == 1:  # If we only have one value, it means only one class was predicted\n",
    "        # Check which class is present\n",
    "        if np.unique(y_true_f).item() == 1:  # Only positives are present\n",
    "            tp = cm[0]\n",
    "            tn = fp = fn = 0\n",
    "        else:  # Only negatives are present\n",
    "            tn = cm[0]\n",
    "            tp = fp = fn = 0\n",
    "    else:  # This is for the case where the confusion matrix might be 2 elements long (only 2 out of tp, fp, tn, fn are present)\n",
    "        raise ValueError(\"Unexpected confusion matrix shape.\")\n",
    "    \n",
    "    tpr = tp / (tp + fn) if (tp + fn) > 0 else 0  # Handling division by zero\n",
    "    fpr = fp / (fp + tn) if (fp + tn) > 0 else 0  # Handling division by zero\n",
    "    \n",
    "    return tpr, fpr\n"
   ]
  },
  {
   "attachments": {},
   "cell_type": "markdown",
   "metadata": {},
   "source": [
    "early stopping & learning rate scheduler"
   ]
  },
  {
   "cell_type": "code",
   "execution_count": 8,
   "metadata": {},
   "outputs": [],
   "source": [
    "from keras.callbacks import EarlyStopping, ModelCheckpoint, LearningRateScheduler, TensorBoard\n",
    "\n",
    "# Early Stopping\n",
    "early_stopping = EarlyStopping(monitor='val_loss', patience=10, verbose=1)\n",
    "\n",
    "# Learning Rate Scheduler\n",
    "def lr_scheduler(epoch, lr):\n",
    "    decay_rate = 0.1\n",
    "    decay_step = 30\n",
    "    if epoch % decay_step == 0 and epoch:\n",
    "        return lr * decay_rate\n",
    "    return lr\n",
    "\n",
    "lr_scheduler = LearningRateScheduler(lr_scheduler, verbose=1)\n"
   ]
  },
  {
   "attachments": {},
   "cell_type": "markdown",
   "metadata": {},
   "source": [
    "set up k fold cross validation "
   ]
  },
  {
   "cell_type": "code",
   "execution_count": 9,
   "metadata": {},
   "outputs": [],
   "source": [
    "from sklearn.model_selection import KFold\n",
    "\n",
    "#change number of folds as needed \n",
    "n_splits = 2\n",
    "\n",
    "kf = KFold(n_splits=n_splits, shuffle=True, random_state=0)"
   ]
  },
  {
   "cell_type": "code",
   "execution_count": null,
   "metadata": {},
   "outputs": [],
   "source": []
  },
  {
   "cell_type": "code",
   "execution_count": 10,
   "metadata": {},
   "outputs": [
    {
     "name": "stdout",
     "output_type": "stream",
     "text": [
      "99/99 [==============================] - 6479s 66s/step - loss: 0.1566 - dice_coef: 0.2486 - true_positive_rate: 0.3861 - false_positive_rate: 0.0228 - val_loss: 0.6250 - val_dice_coef: 3.4240e-05 - val_true_positive_rate: 0.0000e+00 - val_false_positive_rate: 0.0031\n"
     ]
    },
    {
     "ename": "IndexError",
     "evalue": "too many indices for array: array is 2-dimensional, but 3 were indexed",
     "output_type": "error",
     "traceback": [
      "\u001b[0;31m---------------------------------------------------------------------------\u001b[0m",
      "\u001b[0;31mIndexError\u001b[0m                                Traceback (most recent call last)",
      "Cell \u001b[0;32mIn[10], line 65\u001b[0m\n\u001b[1;32m     63\u001b[0m test_img \u001b[39m=\u001b[39m X_test[test_img_number]\n\u001b[1;32m     64\u001b[0m ground_truth \u001b[39m=\u001b[39m y_test[test_img_number]\n\u001b[0;32m---> 65\u001b[0m test_img_norm \u001b[39m=\u001b[39m test_img[:,:,\u001b[39m0\u001b[39;49m][:,:,\u001b[39mNone\u001b[39;00m]\n\u001b[1;32m     66\u001b[0m test_img_input \u001b[39m=\u001b[39m np\u001b[39m.\u001b[39mexpand_dims(test_img_norm, \u001b[39m0\u001b[39m)\n\u001b[1;32m     67\u001b[0m prediction \u001b[39m=\u001b[39m (model\u001b[39m.\u001b[39mpredict(test_img_input)[\u001b[39m0\u001b[39m,:,:,\u001b[39m0\u001b[39m] \u001b[39m>\u001b[39m \u001b[39m0.5\u001b[39m)\u001b[39m.\u001b[39mastype(np\u001b[39m.\u001b[39muint8)\n",
      "\u001b[0;31mIndexError\u001b[0m: too many indices for array: array is 2-dimensional, but 3 were indexed"
     ]
    }
   ],
   "source": [
    "histories = []\n",
    "TPRs =[]\n",
    "FPRs =[]\n",
    "# Assuming each element in your lists is a NumPy array of the same shape\n",
    "sliced_image_dataset = np.array(sliced_image_dataset)\n",
    "sliced_mask_dataset = np.array(sliced_mask_dataset)\n",
    "\n",
    "\n",
    "# Iterate over each fold\n",
    "for i, (train_index, test_index) in enumerate(kf.split(sliced_image_dataset, sliced_mask_dataset)):\n",
    "    X_train, X_test = sliced_image_dataset[train_index], sliced_image_dataset[test_index]\n",
    "    y_train, y_test = sliced_mask_dataset[train_index], sliced_mask_dataset[test_index]\n",
    "\n",
    "   \n",
    "    #checkpoint = ModelCheckpoint(f'C:/Users/Mittal/Desktop/kunet/best_model{i+3}.keras', monitor='val_loss', save_best_only=True)\n",
    "    # Model setup and training\n",
    "    input_img = Input((224, 224, 1), name='img')\n",
    "    model = get_segnet_model(input_img)\n",
    "    model.compile(optimizer=tf.keras.optimizers.legacy.Adam(learning_rate=1e-3), loss='bce', \n",
    "                  metrics=[dice_coef, true_positive_rate, false_positive_rate])\n",
    "\n",
    "    history = model.fit(X_train, y_train,\n",
    "                        batch_size=16,\n",
    "                        verbose=1,\n",
    "                        epochs=1,\n",
    "                        validation_data=(X_test, y_test),\n",
    "                        shuffle=False)\n",
    "\n",
    " \n",
    "    histories.append(history)\n",
    "\n",
    "\n",
    "    #plot for loss \n",
    "    plt.figure(figsize=(15,5))\n",
    "    plt.subplot(1,2,1)\n",
    "    plt.plot(history.history['loss'], color='r')\n",
    "    plt.plot(history.history['val_loss'])\n",
    "    plt.ylabel('Losses')\n",
    "    plt.xlabel('Epoch')\n",
    "    plt.legend(['Train', 'Val.'], loc='upper right')\n",
    "    plt.subplot(1,2,2)\n",
    "\n",
    "    plt.plot(history.history['dice_coef'], color='r')\n",
    "    plt.plot(history.history['val_dice_coef'])\n",
    "    plt.ylabel('dice_coef')\n",
    "    plt.xlabel('Epoch')\n",
    "    plt.tight_layout()\n",
    "\n",
    "    #plt.savefig(f'C:/Users/Mittal/Desktop/kunet/process{i+3}.png')\n",
    "\n",
    "    plt.close()\n",
    "    max_dice_coef = max(history.history['dice_coef'])\n",
    "    max_val_dice_coef = max(history.history['val_dice_coef'])\n",
    "    #f = open(\"C:/Users/Mittal/Desktop/kunet/output.txt\", \"a\")\n",
    "    #print(max_dice_coef, file=f)\n",
    "    #f.close()\n",
    "\n",
    "    # model.load_weights(f'C:/Users/Mittal/Desktop/kunet/best_model{i+3}.keras')\n",
    "\n",
    "    #5 test images \n",
    "    for z in range(5):\n",
    "        test_img_number = random.randint(0, len(X_test))\n",
    "        test_img = X_test[test_img_number]\n",
    "        ground_truth = y_test[test_img_number]\n",
    "        test_img_norm = test_img[:,:,0][:,:,None]\n",
    "        test_img_input = np.expand_dims(test_img_norm, 0)\n",
    "        prediction = (model.predict(test_img_input)[0,:,:,0] > 0.5).astype(np.uint8)\n",
    "\n",
    "        original_image_normalized = ground_truth.astype(float) / np.max(ground_truth)\n",
    "        colored_mask = plt.get_cmap('jet')(prediction / np.max(prediction))\n",
    "        alpha = 0.5 \n",
    "        colored_mask[..., 3] = np.where(prediction > 0, alpha, 0)\n",
    "\n",
    "        #dice_score = dice_coef(ground_truth, prediction)\n",
    "        #dice_scores.append(dice_score)\n",
    "        \n",
    "        \n",
    "        tpr, fpr = calculate_tpr_fpr(ground_truth, prediction)\n",
    "        print(f'TPR={tpr}')\n",
    "        print(f'FPR={fpr}')\n",
    "\n",
    "        TPRs.append(tpr)\n",
    "        FPRs.append(fpr)\n",
    "        \n",
    "        plt.figure(figsize=(16, 8))\n",
    "        plt.subplot(141)\n",
    "        plt.title('Testing Image')\n",
    "        plt.imshow(test_img[:,:,0], cmap='gray')\n",
    "        plt.subplot(142)\n",
    "        plt.title('Testing Label')\n",
    "        plt.imshow(ground_truth[:,:,0], cmap='gray')\n",
    "        plt.subplot(143)\n",
    "        plt.title('Prediction on test image')\n",
    "        plt.imshow(prediction, cmap='gray')\n",
    "        plt.subplot(144)\n",
    "        plt.title(\"Overlayed Images\")\n",
    "        plt.imshow(original_image_normalized, cmap='gray')\n",
    "        plt.imshow(colored_mask, cmap='jet')\n",
    "        #plt.savefig(f'C:/Users/Mittal/Desktop/kunet/predict/fold{i+3}_{z}.png')\n",
    "        plt.close()\n",
    "    \n",
    "\n",
    "\n",
    "        \n",
    "\n",
    "    \n",
    "\n",
    "\n",
    "    \n"
   ]
  },
  {
   "cell_type": "code",
   "execution_count": 13,
   "metadata": {},
   "outputs": [
    {
     "name": "stdout",
     "output_type": "stream",
     "text": [
      "115\n",
      "115\n"
     ]
    }
   ],
   "source": [
    "print(len(image_dataset))\n",
    "print(len(mask_dataset))"
   ]
  }
 ],
 "metadata": {
  "kernelspec": {
   "display_name": "Python 3",
   "language": "python",
   "name": "python3"
  },
  "language_info": {
   "codemirror_mode": {
    "name": "ipython",
    "version": 3
   },
   "file_extension": ".py",
   "mimetype": "text/x-python",
   "name": "python",
   "nbconvert_exporter": "python",
   "pygments_lexer": "ipython3",
   "version": "3.10.1"
  },
  "orig_nbformat": 4,
  "vscode": {
   "interpreter": {
    "hash": "aee8b7b246df8f9039afb4144a1f6fd8d2ca17a180786b69acc140d282b71a49"
   }
  }
 },
 "nbformat": 4,
 "nbformat_minor": 2
}
