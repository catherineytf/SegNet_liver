{
 "cells": [
  {
   "cell_type": "code",
   "execution_count": 1,
   "metadata": {},
   "outputs": [],
   "source": [
    "import nibabel as nib\n",
    "import numpy as np\n",
    "import os\n",
    "import matplotlib.pyplot as plt"
   ]
  },
  {
   "cell_type": "code",
   "execution_count": 2,
   "metadata": {},
   "outputs": [
    {
     "name": "stdout",
     "output_type": "stream",
     "text": [
      "WARNING:tensorflow:From c:\\Users\\Mittal\\AppData\\Local\\Programs\\Python\\Python39\\lib\\site-packages\\keras\\src\\losses.py:2976: The name tf.losses.sparse_softmax_cross_entropy is deprecated. Please use tf.compat.v1.losses.sparse_softmax_cross_entropy instead.\n",
      "\n"
     ]
    }
   ],
   "source": [
    "import tensorflow as tf\n",
    "import tifffile as tiff\n",
    "from tensorflow import keras\n",
    "from tensorflow.keras import layers\n",
    "from tensorflow.keras.utils import plot_model\n",
    "import random\n",
    "\n",
    "from tensorflow.keras.models import Model\n",
    "from tensorflow.keras.layers import Input, Conv2D, MaxPooling2D, UpSampling2D, BatchNormalization, Activation, Concatenate\n",
    "\n",
    "from sklearn.metrics import confusion_matrix\n",
    "from keras.preprocessing.image import ImageDataGenerator\n",
    "import numpy as np\n",
    "from keras import backend as K\n",
    "from keras.losses import binary_crossentropy\n",
    "import tensorflow as tf\n"
   ]
  },
  {
   "cell_type": "code",
   "execution_count": 4,
   "metadata": {},
   "outputs": [],
   "source": [
    "image_directory = 'MRI/Anatomical_mag_echo5/'\n",
    "mask_directory = 'MRI/whole_liver_segmentation/'\n",
    "\n",
    "image_dataset = []  \n",
    "mask_dataset = []\n",
    "sliced_image_dataset = []\n",
    "sliced_mask_dataset = []\n",
    "image_filenames =[]\n",
    "image_slices_filenames =[]\n",
    "mask_filenames =[]\n",
    "mask_slices_filenames =[]\n",
    "\n",
    "\n",
    "images = os.listdir(image_directory)\n",
    "images.sort()\n",
    "for i, image_name in enumerate(images):    \n",
    "    if (image_name.split('.')[1] == 'nii'):\n",
    "        image = nib.load(image_directory+image_name)\n",
    "        image = np.array(image.get_fdata())\n",
    "        image_dataset.append(np.array(image))\n",
    "\n",
    "\n",
    "        image_filenames.append(os.path.splitext(image_name)[0]) \n",
    "\n",
    "masks = os.listdir(mask_directory)\n",
    "masks.sort()\n",
    "for i, image_name in enumerate(masks):\n",
    "    if (image_name.split('.')[1] == 'nii'):\n",
    "        image = nib.load(mask_directory+image_name)\n",
    "        image = np.array(image.get_fdata())\n",
    "        mask_dataset.append(np.array(image))\n",
    "\n",
    "        mask_filenames.append(os.path.splitext(image_name)[0]) \n",
    "\n",
    "\n",
    "for i in range(len(image_dataset)):\n",
    "    for j in range(image_dataset[i].shape[2]):\n",
    "        sliced_image_dataset.append(image_dataset[i][:,:,j])\n",
    "        \n",
    "        image_slice_id = f'{image_filenames[i]}-slice{j}'\n",
    "        image_slices_filenames.append(image_slice_id)\n",
    "\n",
    "\n",
    "for i in range(len(mask_dataset)):\n",
    "    for j in range(mask_dataset[i].shape[2]):\n",
    "        if mask_filenames[i] == 'f_3325' and j==31:\n",
    "            continue\n",
    "        else:\n",
    "            sliced_mask_dataset.append(mask_dataset[i][:,:,j])\n",
    "            mask_slice_id = f'{mask_filenames[i]}-slice{j}'\n",
    "            mask_slices_filenames.append(mask_slice_id)\n",
    "\n",
    "\n"
   ]
  },
  {
   "cell_type": "code",
   "execution_count": 5,
   "metadata": {},
   "outputs": [],
   "source": [
    "batch_size = 16 # The batch size to use when training the model\n",
    "image_size = (224, 224)  # The size of the images\n",
    "\n",
    "import tensorflow as tf\n",
    "import tifffile as tiff\n",
    "from tensorflow import keras\n",
    "from tensorflow.keras import layers\n",
    "from tensorflow.keras.utils import plot_model\n",
    "import random\n",
    "\n",
    "from tensorflow.keras.models import Model\n",
    "from tensorflow.keras.layers import Input, Conv2D, MaxPooling2D, UpSampling2D, BatchNormalization, Activation, Concatenate,Dropout\n",
    "\n",
    "from sklearn.metrics import confusion_matrix\n",
    "from keras.preprocessing.image import ImageDataGenerator\n",
    "import numpy as np\n",
    "\n",
    "# Building the SegNet Model\n",
    "\n",
    "\n",
    "\n",
    "# Building the SegNet Model\n",
    "\n",
    "def encoder_block(input_tensor, n_filters, kernel_size=3, batchnorm=True, dropout_rate=0.1):\n",
    "    # first layer\n",
    "    x = Conv2D(filters=n_filters, kernel_size=(kernel_size, kernel_size), kernel_initializer=\"he_normal\",\n",
    "               padding=\"same\")(input_tensor)\n",
    "    if batchnorm:\n",
    "        x = BatchNormalization()(x)\n",
    "    x = Activation(\"relu\")(x)\n",
    "\n",
    "    if dropout_rate>0:\n",
    "        x = Dropout(dropout_rate)(x)\n",
    "\n",
    "\n",
    "\n",
    "    # second layer\n",
    "    x = Conv2D(filters=n_filters, kernel_size=(kernel_size, kernel_size), kernel_initializer=\"he_normal\",\n",
    "               padding=\"same\")(x)\n",
    "    if batchnorm:\n",
    "        x = BatchNormalization()(x)\n",
    "    x = Activation(\"relu\")(x)\n",
    "    return x\n",
    "\n",
    "def decoder_block(input_tensor, skip_tensor, n_filters, kernel_size=3, batchnorm=True, dropout_rate=0.1):\n",
    "    x = UpSampling2D(size=(2, 2), interpolation='bilinear')(input_tensor)\n",
    "    x = Concatenate()([x, skip_tensor])\n",
    "    x = Conv2D(filters=n_filters, kernel_size=(kernel_size, kernel_size), kernel_initializer=\"he_normal\",\n",
    "               padding=\"same\")(x)\n",
    "    if batchnorm:\n",
    "        x = BatchNormalization()(x)\n",
    "    x = Activation(\"relu\")(x)\n",
    "\n",
    "\n",
    "\n",
    "    if dropout_rate > 0:\n",
    "        x = Dropout(dropout_rate)(x)\n",
    "\n",
    "\n",
    "\n",
    "    \n",
    "    x = Conv2D(filters=n_filters, kernel_size=(kernel_size, kernel_size), kernel_initializer=\"he_normal\",\n",
    "               padding=\"same\")(x)\n",
    "    if batchnorm:\n",
    "        x = BatchNormalization()(x)\n",
    "    x = Activation(\"relu\")(x)\n",
    "    return x\n",
    "\n",
    "def get_segnet_model(input_img, n_filters=64, n_classes=1, dropout=0.1, batchnorm=True):\n",
    "    # Contracting Path (encoder)\n",
    "    c1 = encoder_block(input_img, n_filters * 1, kernel_size=3, batchnorm=batchnorm, dropout_rate=dropout)\n",
    "    p1 = MaxPooling2D((2, 2))(c1)\n",
    "    \n",
    "    c2 = encoder_block(p1, n_filters * 2, kernel_size=3, batchnorm=batchnorm, dropout_rate=dropout)\n",
    "    p2 = MaxPooling2D((2, 2))(c2)\n",
    "    \n",
    "    c3 = encoder_block(p2, n_filters * 4, kernel_size=3, batchnorm=batchnorm, dropout_rate=dropout)\n",
    "    p3 = MaxPooling2D((2, 2))(c3)\n",
    "    \n",
    "    c4 = encoder_block(p3, n_filters * 8, kernel_size=3, batchnorm=batchnorm, dropout_rate=dropout)\n",
    "    p4 = MaxPooling2D((2, 2))(c4)\n",
    "    \n",
    "    # Expanding Path (decoder)\n",
    "    u6 = decoder_block(c4, c3, n_filters * 4, kernel_size=3, batchnorm=batchnorm, dropout_rate=dropout)\n",
    "    u7 = decoder_block(u6, c2, n_filters * 2, kernel_size=3, batchnorm=batchnorm, dropout_rate=dropout)\n",
    "    u8 = decoder_block(u7, c1, n_filters * 1, kernel_size=3, batchnorm=batchnorm, dropout_rate=dropout)\n",
    "    \n",
    "    # Output layer\n",
    "    output_img = Conv2D(n_classes, (1, 1), activation='sigmoid')(u8)\n",
    "    \n",
    "    return Model(inputs=input_img, outputs=output_img)\n"
   ]
  },
  {
   "cell_type": "code",
   "execution_count": 19,
   "metadata": {},
   "outputs": [],
   "source": []
  },
  {
   "cell_type": "code",
   "execution_count": 6,
   "metadata": {},
   "outputs": [
    {
     "name": "stdout",
     "output_type": "stream",
     "text": [
      "WARNING:tensorflow:From c:\\Users\\Mittal\\AppData\\Local\\Programs\\Python\\Python39\\lib\\site-packages\\keras\\src\\backend.py:1398: The name tf.executing_eagerly_outside_functions is deprecated. Please use tf.compat.v1.executing_eagerly_outside_functions instead.\n",
      "\n",
      "WARNING:tensorflow:From c:\\Users\\Mittal\\AppData\\Local\\Programs\\Python\\Python39\\lib\\site-packages\\keras\\src\\layers\\normalization\\batch_normalization.py:979: The name tf.nn.fused_batch_norm is deprecated. Please use tf.compat.v1.nn.fused_batch_norm instead.\n",
      "\n"
     ]
    }
   ],
   "source": [
    "input_img = Input((224, 224, 1), name='img')\n",
    "model = get_segnet_model(input_img)\n",
    "\n",
    "model.load_weights(f'best_model114.keras')\n"
   ]
  },
  {
   "cell_type": "code",
   "execution_count": 8,
   "metadata": {},
   "outputs": [
    {
     "name": "stdout",
     "output_type": "stream",
     "text": [
      "1/1 [==============================] - 0s 358ms/step\n"
     ]
    },
    {
     "name": "stderr",
     "output_type": "stream",
     "text": [
      "C:\\Users\\Mittal\\AppData\\Local\\Temp\\ipykernel_18176\\1175096469.py:10: RuntimeWarning: invalid value encountered in divide\n",
      "  original_image_normalized = ground_truth.astype(float) / np.max(ground_truth)\n",
      "C:\\Users\\Mittal\\AppData\\Local\\Temp\\ipykernel_18176\\1175096469.py:11: RuntimeWarning: invalid value encountered in divide\n",
      "  colored_mask = plt.get_cmap('jet')(prediction / np.max(prediction))\n"
     ]
    },
    {
     "name": "stdout",
     "output_type": "stream",
     "text": [
      "1/1 [==============================] - 0s 354ms/step\n",
      "1/1 [==============================] - 0s 449ms/step\n",
      "1/1 [==============================] - 1s 1s/step\n",
      "1/1 [==============================] - 0s 449ms/step\n",
      "1/1 [==============================] - 1s 783ms/step\n",
      "1/1 [==============================] - 0s 481ms/step\n",
      "1/1 [==============================] - 0s 402ms/step\n",
      "1/1 [==============================] - 0s 435ms/step\n",
      "1/1 [==============================] - 1s 682ms/step\n",
      "1/1 [==============================] - 1s 1s/step\n",
      "1/1 [==============================] - 1s 582ms/step\n",
      "1/1 [==============================] - 1s 638ms/step\n",
      "1/1 [==============================] - 1s 602ms/step\n",
      "1/1 [==============================] - 0s 403ms/step\n",
      "1/1 [==============================] - 1s 1s/step\n",
      "1/1 [==============================] - 0s 354ms/step\n"
     ]
    }
   ],
   "source": [
    " #5 test images \n",
    "for i in range(3151):\n",
    "    test_img_number = i\n",
    "    test_img = sliced_image_dataset[test_img_number]\n",
    "    ground_truth = sliced_mask_dataset[test_img_number]\n",
    "        #test_img_norm = test_img[:,:,0][:,:,None]\n",
    "    test_img_input = np.expand_dims(test_img, axis=0)\n",
    "    prediction = (model.predict(test_img_input)[0,:,:,0] > 0.5).astype(np.uint8)\n",
    "\n",
    "    original_image_normalized = ground_truth.astype(float) / np.max(ground_truth)\n",
    "    colored_mask = plt.get_cmap('jet')(prediction / np.max(prediction))\n",
    "    alpha = 0.5 \n",
    "    colored_mask[..., 3] = np.where(prediction > 0, alpha, 0)\n",
    "    id = mask_slices_filenames[i]\n",
    "\n",
    "      \n",
    "        \n",
    "    \n",
    "    plt.figure(figsize=(16, 8))\n",
    "    plt.subplot(141)\n",
    "    plt.title('Testing Image')\n",
    "    plt.imshow(test_img[:,:], cmap='gray')\n",
    "    plt.subplot(142)\n",
    "    plt.title('Testing Mask')\n",
    "    plt.imshow(ground_truth[:,:], cmap='gray')\n",
    "    plt.subplot(143)\n",
    "    plt.title('Prediction on test image')\n",
    "    plt.imshow(prediction, cmap='gray')\n",
    "    plt.subplot(144)\n",
    "    plt.title(\"Overlayed Images\")\n",
    "    plt.imshow(original_image_normalized, cmap='gray')\n",
    "    plt.imshow(colored_mask, cmap='jet')\n",
    "    plt.savefig(f'test_pred/{id}.png')\n",
    "    plt.close()"
   ]
  },
  {
   "cell_type": "code",
   "execution_count": null,
   "metadata": {},
   "outputs": [],
   "source": []
  }
 ],
 "metadata": {
  "kernelspec": {
   "display_name": "Python 3",
   "language": "python",
   "name": "python3"
  },
  "language_info": {
   "codemirror_mode": {
    "name": "ipython",
    "version": 3
   },
   "file_extension": ".py",
   "mimetype": "text/x-python",
   "name": "python",
   "nbconvert_exporter": "python",
   "pygments_lexer": "ipython3",
   "version": "3.9.6"
  },
  "orig_nbformat": 4,
  "vscode": {
   "interpreter": {
    "hash": "aee8b7b246df8f9039afb4144a1f6fd8d2ca17a180786b69acc140d282b71a49"
   }
  }
 },
 "nbformat": 4,
 "nbformat_minor": 2
}
